{
 "cells": [
  {
   "cell_type": "code",
   "execution_count": null,
   "metadata": {},
   "outputs": [],
   "source": [
    "import socket\n",
    "import time\n",
    "import json\n",
    "HOST = '127.0.0.1'   # The server's hostname or IP address\n",
    "PORT = 65432        # The port used by the server\n",
    "CLIENT = 1\n"
   ]
  },
  {
   "cell_type": "markdown",
   "metadata": {},
   "source": [
    "# CHECK\n",
    "This part tests \"mode\" = \"check\" functionality.\n",
    "\n",
    "Query sent in a `Check` mode returns all the BSM messages and doesn't change anything on the server.\n",
    "It shall be used by external apps, to visualize the messages that are going to be broadcasted etc.\n"
   ]
  },
  {
   "cell_type": "code",
   "execution_count": null,
   "metadata": {},
   "outputs": [],
   "source": [
    "with socket.socket(socket.AF_INET, socket.SOCK_STREAM) as s:\n",
    "    s.connect((HOST, PORT))\n",
    "    for i in range (1):\n",
    "        data = {\n",
    "            'mode' : 'check',\n",
    "        }\n",
    "        msg = json.dumps(data)\n",
    "        msg = str.encode(msg)\n",
    "        s.sendall(msg)\n",
    "        data = s.recv(16184)\n",
    "        print ('Data: {}\\n'.format(repr(data)))    \n",
    "        #time.sleep(2)\n",
    "    "
   ]
  },
  {
   "cell_type": "markdown",
   "metadata": {},
   "source": [
    "# Pull\n",
    "This part tests \"mode\" = \"pull\" functionality.\n",
    "\n",
    "Query sent in a `pull` mode returns a bsm message that shall be broadcasted next.\n",
    "This query shall be used by Cohda and other broadcast devices. \n",
    "BSM server assumes that if the message was sent as a response to `pull` request, it is automatically broadcasted. Thus, the `pull` query shouldn't be used by external apps.\n",
    "\n"
   ]
  },
  {
   "cell_type": "code",
   "execution_count": null,
   "metadata": {},
   "outputs": [],
   "source": [
    "with socket.socket(socket.AF_INET, socket.SOCK_STREAM) as s:\n",
    "    s.connect((HOST, PORT))\n",
    "    for i in range (10):\n",
    "        data = {\n",
    "            'mode' : 'pull',\n",
    "        }\n",
    "        msg = json.dumps(data)\n",
    "        msg = str.encode(msg)\n",
    "        s.sendall(msg)\n",
    "        data = s.recv(1024)\n",
    "        print ('Data: {}\\n'.format(repr(data)))    \n",
    "        time.sleep(0.1)\n",
    "    "
   ]
  },
  {
   "cell_type": "code",
   "execution_count": null,
   "metadata": {},
   "outputs": [],
   "source": []
  }
 ],
 "metadata": {
  "kernelspec": {
   "display_name": "Python 3",
   "language": "python",
   "name": "python3"
  },
  "language_info": {
   "codemirror_mode": {
    "name": "ipython",
    "version": 3
   },
   "file_extension": ".py",
   "mimetype": "text/x-python",
   "name": "python",
   "nbconvert_exporter": "python",
   "pygments_lexer": "ipython3",
   "version": "3.6.10"
  }
 },
 "nbformat": 4,
 "nbformat_minor": 2
}
