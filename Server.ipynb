{
 "cells": [
  {
   "cell_type": "code",
   "execution_count": null,
   "metadata": {},
   "outputs": [],
   "source": [
    "import socket\n",
    "import threading\n",
    "import json\n",
    "import sys\n",
    "\n",
    "from time import time, sleep\n",
    "import copy\n",
    "\n",
    "from collections import OrderedDict\n",
    "\n",
    "\n",
    "HOST = '192.168.0.140'  # Standard loopback interface address (localhost)\n",
    "PORT = 65432 # Port to listen on (non-privileged ports are > 1023)\n",
    "DATA_BUFF = 4096\n",
    "OK = \"Ok.\"\n",
    "OBJECT_LIFETIME = 20 # Lifetime of the object (in seconds)\n",
    "EXIT_THRESHOLD = 10 # Exit thread if didn't receive anything for X seconds"
   ]
  },
  {
   "cell_type": "code",
   "execution_count": null,
   "metadata": {},
   "outputs": [],
   "source": [
    "class MsgObj():\n",
    "    def __init__(self, obj_id, timestamp, msg, active = True, lastRead = 0):\n",
    "        self.id = obj_id,\n",
    "        self.active = active # Only active objects are being sent\n",
    "        self.lastRead = lastRead # When the object was read last time\n",
    "        self.timestamp = timestamp\n",
    "        self.msg = msg\n",
    "\n",
    "    def dumpObj(self):\n",
    "        print ('Id: {}, Timestamp: {}, Msg: {}'.format(self.id, self.timestamp, self.msg))\n",
    "        \n",
    "        \n",
    "class MsgObjects():\n",
    "    def __init__(self):\n",
    "        self.objects = OrderedDict()\n",
    "    \n",
    "    def first(self):\n",
    "        if len(self.objects) == 0:\n",
    "            return None\n",
    "        return next(self.objects)\n",
    "    \n",
    "    def sort_objects(self):\n",
    "        self.objects = OrderedDict(sorted(\n",
    "            self.objects.items(), key=lambda item: item[1].lastRead))\n",
    "        \n",
    "    def push_object(self, msg, force_sort = False):\n",
    "        if isinstance(msg, str):\n",
    "            msg_dict = json.loads(msg)\n",
    "        elif isinstance(msg, dict):\n",
    "            msg_dict = msg\n",
    "            msg = json.dumps(msg_dict)\n",
    "            \n",
    "        if 'id' in msg_dict:\n",
    "            objid = msg_dict['id']\n",
    "            if 'secMark' in msg_dict:\n",
    "                timestamp = msg_dict['secMark']\n",
    "            else:\n",
    "                timestamp = time()\n",
    "            if objid in self.objects.keys():\n",
    "                self.objects[objid].msg = msg\n",
    "                self.objects[objid].timestamp = timestamp\n",
    "                self.objects[objid].active = True\n",
    "            else:\n",
    "                obj = MsgObj(objid, timestamp, msg)\n",
    "                self.objects[obj.id] = obj\n",
    "        else:\n",
    "            return 1 # Error - cannot push the object\n",
    "        \n",
    "        if force_sort:\n",
    "            self.sort_objects()\n",
    "        return 0\n",
    "\n",
    "    def pull_object(self, force_sort = False):\n",
    "        if len(self.objects) == 0:\n",
    "            return None\n",
    "        if force_sort:\n",
    "            self.sort_objects()\n",
    "        key, obj = self.objects.popitem(last = False)\n",
    "        \n",
    "        # Recurrence. If our object is too old, let's take the next one. \n",
    "        # Current object is already removed from the list by popitem\n",
    "        if time() - obj.timestamp > OBJECT_LIFETIME:\n",
    "            return (self.pull_object(False))\n",
    "        \n",
    "        \n",
    "        self.objects[key] = obj\n",
    "        if not obj.active:\n",
    "            return None\n",
    "        obj.lastRead = time()\n",
    "        obj.active = False\n",
    "        return obj\n",
    "    \n",
    "    \n",
    "    def pull_objects(force_sort = False):\n",
    "        if force_sort:\n",
    "            self.sort_objects()\n",
    "        ret = copy.deepcopy(self.objects)\n",
    "        self.objects = OrderedDict()\n",
    "        return ret\n",
    "    \n",
    "    def pull_bsm(self, force_sort = False):\n",
    "        obj = self.pull_object(force_sort)\n",
    "        if obj is None:\n",
    "            return '{\"msg\" : \"\"}'\n",
    "        return obj.msg\n",
    "    \n",
    "    def get_bsms(self, force_sort = False):\n",
    "        \"\"\"\n",
    "        Returns bsm msgs for all objects\n",
    "        Arguments: force_sort - if true, then objects are sorted first (default = False)\n",
    "        Returns:   list with bsm msgs in json format\n",
    "        \"\"\"\n",
    "        if force_sort:\n",
    "            self.sort_objects()\n",
    "        return [x.msg for x in self.objects.values()]\n",
    "        \n",
    "    "
   ]
  },
  {
   "cell_type": "code",
   "execution_count": null,
   "metadata": {
    "scrolled": true
   },
   "outputs": [],
   "source": [
    "\n",
    "\n",
    "\n",
    "buff = None\n",
    "counter = 0\n",
    "\n",
    "msgObjects = MsgObjects()\n",
    "\n",
    "\n",
    "\n",
    "\n",
    "def push_data(request):\n",
    "    global msgObjects\n",
    "    json_msgs = json.loads(request['msg'])\n",
    "    #print (\"json_msgs:\", type(json_msgs), json_msgs)\n",
    "    if isinstance(json_msgs, dict):\n",
    "        json_msgs = [json_msgs]\n",
    "    ret = sum([msgObjects.push_object(json_msg) for json_msg in json_msgs])\n",
    "    msgObjects.sort_objects()\n",
    "    if ret > 0:\n",
    "        return \"ERROR: Failed to push {} / {} objects.\".format(ret, len(json_msgs))\n",
    "    return OK\n",
    "        \n",
    "def pull_data(conn, request):\n",
    "    myMsg = msgObjects.pull_bsm()\n",
    "    print (\"PULL:\", myMsg)\n",
    "    myMsg = str.encode(myMsg)\n",
    "    conn.sendall(myMsg)         \n",
    "\n",
    "def check_data(conn, request):\n",
    "    myMsg = { 'msgs' : msgObjects.get_bsms()}\n",
    "    myMsg = json.dumps(myMsg)\n",
    "    myMsg = str.encode(myMsg)\n",
    "    conn.sendall(myMsg)         \n",
    "        \n",
    "    \n",
    "def connection(nr, conn, addr):\n",
    "    last_received = time()\n",
    "    global buff\n",
    "    global counter\n",
    "    print (\"Connection nr: {}, c: {}, addr: {}\".format(nr, conn, addr))\n",
    "    while True:\n",
    "        data = conn.recv(DATA_BUFF)\n",
    "        if addr[0] != HOST:\n",
    "            print(\"Conn {}, addr: {}, Data received: {}\".format(nr, addr, data))\n",
    "        if len(data) == 0:\n",
    "            if time() - last_received < EXIT_THRESHOLD: \n",
    "                continue\n",
    "            else: # End thread if not conected for a while\n",
    "                print (\"\\nDisconnecting session...\")\n",
    "                break\n",
    "        last_received = time()\n",
    "        request = json.loads(data)\n",
    "        if not \"mode\" in request:\n",
    "            conn.sendall(str.encode('ERROR: No \"mode\" in request.'))\n",
    "            continue\n",
    "        if request['mode'] == 'push':\n",
    "            ret = push_data(request)\n",
    "            conn.sendall(str.encode(ret))\n",
    "        elif request['mode'] == 'pull':\n",
    "            pull_data(conn, request)\n",
    "        elif request['mode'] == 'check':\n",
    "            check_data(conn, request)\n",
    "        else:\n",
    "            conn.sendall(str.encode('ERROR: Value for \"mode\" unknown.'))\n",
    "            \n",
    "connr = 0\n",
    "\n",
    "with socket.socket(socket.AF_INET, socket.SOCK_STREAM) as s:\n",
    "    s.setsockopt(socket.SOL_SOCKET, socket.SO_REUSEADDR, 1)\n",
    "    s.bind((HOST, PORT))\n",
    "    s.listen()\n",
    "    while True:\n",
    "        conn, addr = s.accept()\n",
    "        connr += 1\n",
    "        t = threading.Thread(target=connection, args=(connr, conn, addr))\n",
    "        t.start()"
   ]
  },
  {
   "cell_type": "code",
   "execution_count": null,
   "metadata": {},
   "outputs": [],
   "source": [
    "s.close()"
   ]
  },
  {
   "cell_type": "code",
   "execution_count": null,
   "metadata": {},
   "outputs": [],
   "source": [
    "for k, obj in msgObjects.objects.items():\n",
    "    obj.dumpObj()"
   ]
  },
  {
   "cell_type": "code",
   "execution_count": null,
   "metadata": {},
   "outputs": [],
   "source": [
    "msgObjects.objects"
   ]
  },
  {
   "cell_type": "code",
   "execution_count": null,
   "metadata": {},
   "outputs": [],
   "source": [
    "dic = {}\n",
    "for i in range(1, 5):\n",
    "    dic[i] = \"A\" * i\n",
    "dic = OrderedDict(dic)\n",
    "dic"
   ]
  },
  {
   "cell_type": "code",
   "execution_count": null,
   "metadata": {},
   "outputs": [],
   "source": [
    "dic.items()\n"
   ]
  },
  {
   "cell_type": "code",
   "execution_count": null,
   "metadata": {},
   "outputs": [],
   "source": [
    "k, o = dic.popitem(last = False)\n",
    "dic[k] = o\n",
    "print (o)\n",
    "dic"
   ]
  },
  {
   "cell_type": "code",
   "execution_count": null,
   "metadata": {},
   "outputs": [],
   "source": [
    "dic\n"
   ]
  },
  {
   "cell_type": "code",
   "execution_count": null,
   "metadata": {},
   "outputs": [],
   "source": [
    "dic([1, 2])"
   ]
  },
  {
   "cell_type": "code",
   "execution_count": null,
   "metadata": {},
   "outputs": [],
   "source": [
    "print (time())\n",
    "sleep(2)\n",
    "print (time())"
   ]
  },
  {
   "cell_type": "code",
   "execution_count": null,
   "metadata": {},
   "outputs": [],
   "source": [
    "objects.get_bsms()"
   ]
  },
  {
   "cell_type": "code",
   "execution_count": null,
   "metadata": {},
   "outputs": [],
   "source": [
    "objects"
   ]
  },
  {
   "cell_type": "code",
   "execution_count": null,
   "metadata": {},
   "outputs": [],
   "source": [
    "for x in msgObjects.objects:\n",
    "    print (x, msgObjects.objects[x], msgObjects.objects[x].msg)"
   ]
  },
  {
   "cell_type": "code",
   "execution_count": null,
   "metadata": {},
   "outputs": [],
   "source": [
    "msgObjects.get_bsms()"
   ]
  },
  {
   "cell_type": "code",
   "execution_count": null,
   "metadata": {},
   "outputs": [],
   "source": [
    "for a in msgObjects.objects.values():\n",
    "    print (a.msg)"
   ]
  },
  {
   "cell_type": "code",
   "execution_count": null,
   "metadata": {},
   "outputs": [],
   "source": [
    "a = {'msgs' : msgObjects.get_bsms()}\n",
    "a = json.dumps(a)\n",
    "a"
   ]
  },
  {
   "cell_type": "code",
   "execution_count": null,
   "metadata": {},
   "outputs": [],
   "source": []
  },
  {
   "cell_type": "code",
   "execution_count": null,
   "metadata": {},
   "outputs": [],
   "source": []
  }
 ],
 "metadata": {
  "kernelspec": {
   "display_name": "Python 3",
   "language": "python",
   "name": "python3"
  },
  "language_info": {
   "codemirror_mode": {
    "name": "ipython",
    "version": 3
   },
   "file_extension": ".py",
   "mimetype": "text/x-python",
   "name": "python",
   "nbconvert_exporter": "python",
   "pygments_lexer": "ipython3",
   "version": "3.6.10"
  }
 },
 "nbformat": 4,
 "nbformat_minor": 2
}
